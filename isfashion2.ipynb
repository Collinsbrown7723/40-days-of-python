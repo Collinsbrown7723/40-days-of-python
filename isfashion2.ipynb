{
  "nbformat": 4,
  "nbformat_minor": 0,
  "metadata": {
    "colab": {
      "provenance": [],
      "authorship_tag": "ABX9TyMaH3lJBncUysInPyqA5ysh",
      "include_colab_link": true
    },
    "kernelspec": {
      "name": "python3",
      "display_name": "Python 3"
    },
    "language_info": {
      "name": "python"
    }
  },
  "cells": [
    {
      "cell_type": "markdown",
      "metadata": {
        "id": "view-in-github",
        "colab_type": "text"
      },
      "source": [
        "<a href=\"https://colab.research.google.com/github/Collinsbrown7723/40-days-of-python/blob/main/isfashion2.ipynb\" target=\"_parent\"><img src=\"https://colab.research.google.com/assets/colab-badge.svg\" alt=\"Open In Colab\"/></a>"
      ]
    },
    {
      "cell_type": "code",
      "execution_count": null,
      "metadata": {
        "id": "qe4iBnp4jaFY"
      },
      "outputs": [],
      "source": []
    },
    {
      "cell_type": "code",
      "execution_count": 1,
      "metadata": {
        "colab": {
          "base_uri": "https://localhost:8080/"
        },
        "id": "J_aGajSwwypf",
        "outputId": "abd875c9-8c1e-4af4-adcb-f1b8fc6d5eaf"
      },
      "outputs": [
        {
          "output_type": "stream",
          "name": "stdout",
          "text": [
            "Mounted at /content/drive\n"
          ]
        }
      ],
      "source": [
        "# prompt: connect my drive\n",
        "\n",
        "from google.colab import drive\n",
        "drive.mount('/content/drive')\n",
        "\n",
        "url = \"drive/MyDrive/datasets/isfashion/\"\n",
        "\n",
        "\n"
      ]
    },
    {
      "cell_type": "code",
      "source": [
        "import os\n",
        "import cv2\n",
        "import numpy as np\n",
        "from PIL import Image\n",
        "import pandas as pd\n",
        "\n",
        "url = \"drive/MyDrive/datasets/isfashion/\"\n",
        "\n",
        "images = []\n",
        "labels = []\n",
        "\n",
        "# Iterate through the \"notfashion\" folder\n",
        "not_fashion_folder = os.path.join(url, \"not-fashion\")\n",
        "for filename in os.listdir(not_fashion_folder):\n",
        "    if filename.endswith(('.jpg', '.jpeg', '.png','svg')):  # Add other image extensions if needed\n",
        "        img_path = os.path.join(not_fashion_folder, filename)\n",
        "        try:\n",
        "            img = cv2.imread(img_path)\n",
        "            img = cv2.cvtColor(img, cv2.COLOR_BGR2RGB) # Convert BGR to RGB\n",
        "            if img is not None: # Check if image loaded correctly\n",
        "                img = cv2.resize(img, (35, 35)) # Resize images for consistency\n",
        "                images.append(img)\n",
        "                labels.append(0)\n",
        "        except Exception as e:\n",
        "            print(f\"Error loading image {img_path}: {e}\")\n",
        "\n",
        "# Iterate through the \"fashion\" folder\n",
        "fashion_folder = os.path.join(url, \"fashion\")\n",
        "for filename in os.listdir(fashion_folder):\n",
        "    if filename.endswith(('.jpg', '.jpeg', '.png','svg')): # Add other image extensions if needed\n",
        "        img_path = os.path.join(fashion_folder, filename)\n",
        "        try:\n",
        "            img = cv2.imread(img_path)\n",
        "            img = cv2.cvtColor(img, cv2.COLOR_BGR2RGB) # Convert BGR to RGB\n",
        "            if img is not None: # Check if image loaded correctly\n",
        "                img = cv2.resize(img, (35, 35)) # Resize images for consistency\n",
        "                images.append(img)\n",
        "                labels.append(1)\n",
        "        except Exception as e:\n",
        "            print(f\"Error loading image {img_path}: {e}\")\n",
        "\n",
        "# Create a Pandas DataFrame\n",
        "df = pd.DataFrame({'image': images, 'label': labels})\n",
        "\n",
        "\n",
        "df.info()"
      ],
      "metadata": {
        "id": "k3D6clcpjrQ5",
        "colab": {
          "base_uri": "https://localhost:8080/"
        },
        "outputId": "7829c438-ec31-4579-f63a-b94023ca8b20"
      },
      "execution_count": 1,
      "outputs": [
        {
          "output_type": "stream",
          "name": "stdout",
          "text": [
            "<class 'pandas.core.frame.DataFrame'>\n",
            "RangeIndex: 524 entries, 0 to 523\n",
            "Data columns (total 2 columns):\n",
            " #   Column  Non-Null Count  Dtype \n",
            "---  ------  --------------  ----- \n",
            " 0   image   524 non-null    object\n",
            " 1   label   524 non-null    int64 \n",
            "dtypes: int64(1), object(1)\n",
            "memory usage: 8.3+ KB\n"
          ]
        }
      ]
    },
    {
      "cell_type": "code",
      "source": [
        "df.image = df.image/255"
      ],
      "metadata": {
        "id": "TcX9uQNRlWjs"
      },
      "execution_count": 2,
      "outputs": []
    },
    {
      "cell_type": "code",
      "source": [
        "# prompt: evaluate\n",
        "\n",
        "from sklearn.model_selection import train_test_split\n",
        "\n",
        "\n",
        "# Convert image data to NumPy array\n",
        "X = np.array(df.image.to_list())\n",
        "y = np.array(df.label.to_list())\n",
        "\n",
        "# Split data into training and testing sets\n",
        "X_train, X_test, y_train, y_test = train_test_split(X, y, test_size=0.2, random_state=42)"
      ],
      "metadata": {
        "id": "tHnz5N9okFCJ"
      },
      "execution_count": 3,
      "outputs": []
    },
    {
      "cell_type": "code",
      "source": [
        "import tensorflow as tf\n",
        "from tensorflow import keras\n",
        "from tensorflow.keras import layers\n",
        "\n",
        "# Define the model\n",
        "model = keras.Sequential(\n",
        "    [\n",
        "        keras.Input(shape=(35, 35, 3)),  # Input shape: (height, width, channels)\n",
        "        layers.Conv2D(32, kernel_size=(3, 3), activation=\"relu\"),\n",
        "        layers.MaxPooling2D(pool_size=(2, 2)),\n",
        "        layers.Conv2D(64, kernel_size=(3, 3), activation=\"relu\"),\n",
        "        layers.MaxPooling2D(pool_size=(2, 2)),\n",
        "        layers.Flatten(),\n",
        "        layers.Dense(1, activation=\"sigmoid\"), # Output layer with sigmoid for binary classification\n",
        "    ]\n",
        ")\n"
      ],
      "metadata": {
        "id": "ZWRROOGMkE4g"
      },
      "execution_count": 4,
      "outputs": []
    },
    {
      "cell_type": "code",
      "source": [
        "# Compile the model\n",
        "model.compile(loss=\"binary_crossentropy\", optimizer=\"adam\", metrics=[\"accuracy\"])\n"
      ],
      "metadata": {
        "id": "yYKHuxIukEXL"
      },
      "execution_count": 5,
      "outputs": []
    },
    {
      "cell_type": "code",
      "source": [
        "model.fit(X_train, y_train, epochs=10, batch_size=32) # Adjust epochs and batch_size as needed"
      ],
      "metadata": {
        "colab": {
          "base_uri": "https://localhost:8080/"
        },
        "id": "0OGBth94kEPX",
        "outputId": "b5e24e1e-e1c6-4342-9097-e872a96f0c3d"
      },
      "execution_count": 6,
      "outputs": [
        {
          "output_type": "stream",
          "name": "stdout",
          "text": [
            "Epoch 1/10\n",
            "\u001b[1m14/14\u001b[0m \u001b[32m━━━━━━━━━━━━━━━━━━━━\u001b[0m\u001b[37m\u001b[0m \u001b[1m2s\u001b[0m 36ms/step - accuracy: 0.6027 - loss: 0.6346\n",
            "Epoch 2/10\n",
            "\u001b[1m14/14\u001b[0m \u001b[32m━━━━━━━━━━━━━━━━━━━━\u001b[0m\u001b[37m\u001b[0m \u001b[1m1s\u001b[0m 61ms/step - accuracy: 0.7316 - loss: 0.5140\n",
            "Epoch 3/10\n",
            "\u001b[1m14/14\u001b[0m \u001b[32m━━━━━━━━━━━━━━━━━━━━\u001b[0m\u001b[37m\u001b[0m \u001b[1m2s\u001b[0m 86ms/step - accuracy: 0.7940 - loss: 0.4296\n",
            "Epoch 4/10\n",
            "\u001b[1m14/14\u001b[0m \u001b[32m━━━━━━━━━━━━━━━━━━━━\u001b[0m\u001b[37m\u001b[0m \u001b[1m1s\u001b[0m 63ms/step - accuracy: 0.8622 - loss: 0.3702\n",
            "Epoch 5/10\n",
            "\u001b[1m14/14\u001b[0m \u001b[32m━━━━━━━━━━━━━━━━━━━━\u001b[0m\u001b[37m\u001b[0m \u001b[1m1s\u001b[0m 50ms/step - accuracy: 0.8486 - loss: 0.3355\n",
            "Epoch 6/10\n",
            "\u001b[1m14/14\u001b[0m \u001b[32m━━━━━━━━━━━━━━━━━━━━\u001b[0m\u001b[37m\u001b[0m \u001b[1m1s\u001b[0m 34ms/step - accuracy: 0.8434 - loss: 0.3349\n",
            "Epoch 7/10\n",
            "\u001b[1m14/14\u001b[0m \u001b[32m━━━━━━━━━━━━━━━━━━━━\u001b[0m\u001b[37m\u001b[0m \u001b[1m1s\u001b[0m 37ms/step - accuracy: 0.9079 - loss: 0.2778\n",
            "Epoch 8/10\n",
            "\u001b[1m14/14\u001b[0m \u001b[32m━━━━━━━━━━━━━━━━━━━━\u001b[0m\u001b[37m\u001b[0m \u001b[1m1s\u001b[0m 35ms/step - accuracy: 0.9005 - loss: 0.2479\n",
            "Epoch 9/10\n",
            "\u001b[1m14/14\u001b[0m \u001b[32m━━━━━━━━━━━━━━━━━━━━\u001b[0m\u001b[37m\u001b[0m \u001b[1m1s\u001b[0m 37ms/step - accuracy: 0.9215 - loss: 0.2138\n",
            "Epoch 10/10\n",
            "\u001b[1m14/14\u001b[0m \u001b[32m━━━━━━━━━━━━━━━━━━━━\u001b[0m\u001b[37m\u001b[0m \u001b[1m1s\u001b[0m 34ms/step - accuracy: 0.9241 - loss: 0.2147\n"
          ]
        },
        {
          "output_type": "execute_result",
          "data": {
            "text/plain": [
              "<keras.src.callbacks.history.History at 0x7d38581608b0>"
            ]
          },
          "metadata": {},
          "execution_count": 6
        }
      ]
    },
    {
      "cell_type": "code",
      "source": [
        "loss, accuracy = model.evaluate(X_test, y_test, verbose=0)\n",
        "print(f\"Test Loss: {loss:.4f}\")\n",
        "print(f\"Test Accuracy: {accuracy:.4f}\")"
      ],
      "metadata": {
        "colab": {
          "base_uri": "https://localhost:8080/"
        },
        "id": "uMDsdrZSlq_i",
        "outputId": "072c182c-0f03-42c3-b640-125b8af88e43"
      },
      "execution_count": 7,
      "outputs": [
        {
          "output_type": "stream",
          "name": "stdout",
          "text": [
            "Test Loss: 0.2615\n",
            "Test Accuracy: 0.8857\n"
          ]
        }
      ]
    },
    {
      "cell_type": "code",
      "source": [
        "# prompt: print classifation report\n",
        "\n",
        "from sklearn.metrics import classification_report\n",
        "\n",
        "y_pred = model.predict(X_test)\n",
        "y_pred_classes = (y_pred > 0.5).astype(int) # Convert probabilities to class labels\n",
        "\n",
        "print(classification_report(y_test, y_pred_classes))"
      ],
      "metadata": {
        "colab": {
          "base_uri": "https://localhost:8080/"
        },
        "id": "auvKyFn9l2sg",
        "outputId": "305c3d91-cbcb-49ba-c99a-8e74dbe4701e"
      },
      "execution_count": 8,
      "outputs": [
        {
          "output_type": "stream",
          "name": "stdout",
          "text": [
            "\u001b[1m4/4\u001b[0m \u001b[32m━━━━━━━━━━━━━━━━━━━━\u001b[0m\u001b[37m\u001b[0m \u001b[1m0s\u001b[0m 36ms/step\n",
            "              precision    recall  f1-score   support\n",
            "\n",
            "           0       0.96      0.71      0.82        38\n",
            "           1       0.86      0.99      0.92        67\n",
            "\n",
            "    accuracy                           0.89       105\n",
            "   macro avg       0.91      0.85      0.87       105\n",
            "weighted avg       0.90      0.89      0.88       105\n",
            "\n"
          ]
        }
      ]
    },
    {
      "cell_type": "code",
      "source": [
        "import requests\n",
        "from PIL import Image\n",
        "import numpy as np\n",
        "import matplotlib.pyplot as plt\n",
        "def predict_from_url(image_url):\n",
        "    try:\n",
        "        response = requests.get(image_url, stream=True)\n",
        "        response.raise_for_status()  # Raise an exception for bad status codes\n",
        "\n",
        "        image = Image.open(response.raw)\n",
        "        image = image.resize((35, 35))  # Resize the image to match the model's input shape\n",
        "        image = np.array(image) / 255.0  # Normalize pixel values\n",
        "        plt.imshow(image)\n",
        "        plt.show()\n",
        "    except Exception as e:\n",
        "        print(f\"Error loading image from URL: {e}\")"
      ],
      "metadata": {
        "id": "G1SLxtPJmR7g"
      },
      "execution_count": 9,
      "outputs": []
    },
    {
      "cell_type": "code",
      "source": [
        "predict_from_url(\"https://external-content.duckduckgo.com/iu/?u=https%3A%2F%2Ftse2.explicit.bing.net%2Fth%3Fid%3DOIP.9-knkmPW7wuvKJ99rW_DGwHaLH%26pid%3DApi&f=1&ipt=d38bcc5d281e85974a55aa463048e87d9ce33564768dbf039e628db08d9e149b&ipo=images\")"
      ],
      "metadata": {
        "colab": {
          "base_uri": "https://localhost:8080/"
        },
        "id": "gxhDNIfum0hG",
        "outputId": "503a7fa6-39d2-4c05-be8b-7789143a2fd6"
      },
      "execution_count": 10,
      "outputs": [
        {
          "output_type": "display_data",
          "data": {
            "text/plain": [
              "<Figure size 640x480 with 1 Axes>"
            ],
            "image/png": "[encoded data removed]"
          },
          "metadata": {}
        }
      ]
    },
    {
      "cell_type": "code",
      "source": [],
      "metadata": {
        "id": "aaUhNV8Hm-tM"
      },
      "execution_count": null,
      "outputs": []
    }
  ]
}