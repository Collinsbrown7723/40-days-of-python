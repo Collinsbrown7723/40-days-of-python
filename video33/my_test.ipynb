{
 "cells": [
  {
   "cell_type": "markdown",
   "id": "306020e7-8f69-416a-8e7d-e8593e8a87f1",
   "metadata": {},
   "source": [
    "# python "
   ]
  },
  {
   "cell_type": "markdown",
   "id": "c0f4fc4a-d230-4af8-ad73-a7857d05f1e8",
   "metadata": {},
   "source": [
    "### list method"
   ]
  },
  {
   "cell_type": "markdown",
   "id": "4cf1ce77-c9f7-4c1b-9265-5dd9b402f196",
   "metadata": {},
   "source": [
    "in **python** there are many *list* methods, exampl `append()`"
   ]
  },
  {
   "cell_type": "code",
   "execution_count": 2,
   "id": "f6fe72b4-a316-4735-acbf-d90533d381b5",
   "metadata": {},
   "outputs": [],
   "source": [
    "import pandas"
   ]
  },
  {
   "cell_type": "code",
   "execution_count": null,
   "id": "184b0b17-3926-4d0f-8267-b4de0fda7377",
   "metadata": {},
   "outputs": [],
   "source": []
  },
  {
   "cell_type": "code",
   "execution_count": null,
   "id": "8f2f69c8-d3ea-4ec5-aa11-18c41f6dc5b4",
   "metadata": {},
   "outputs": [],
   "source": []
  },
  {
   "cell_type": "code",
   "execution_count": null,
   "id": "7068bf20-872c-409c-b8c3-32d147add250",
   "metadata": {},
   "outputs": [],
   "source": []
  }
 ],
 "metadata": {
  "kernelspec": {
   "display_name": "Python 3 (ipykernel)",
   "language": "python",
   "name": "python3"
  },
  "language_info": {
   "codemirror_mode": {
    "name": "ipython",
    "version": 3
   },
   "file_extension": ".py",
   "mimetype": "text/x-python",
   "name": "python",
   "nbconvert_exporter": "python",
   "pygments_lexer": "ipython3",
   "version": "3.9.2"
  }
 },
 "nbformat": 4,
 "nbformat_minor": 5
}
